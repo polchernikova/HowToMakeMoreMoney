{
 "cells": [
  {
   "cell_type": "markdown",
   "metadata": {
    "id": "eHxf0YWkcjg8",
    "slideshow": {
     "slide_type": "slide"
    }
   },
   "source": [
    "\n",
    "# **А нужен ли университет?**"
   ]
  },
  {
   "cell_type": "markdown",
   "metadata": {
    "id": "-FxBeWu50qNm",
    "slideshow": {
     "slide_type": "slide"
    }
   },
   "source": [
    "В качестве темы для исследоания мною было решено взять установления корелляции между заработной платой программиста и его образованием. Забегая вперед скажу, что сделать это оказалось очень уж легко, поэтому в результате получилось просто исследование зависимости зарплаты программиста от различных факторов"
   ]
  },
  {
   "cell_type": "markdown",
   "metadata": {
    "id": "GT4kKB01c5aQ",
    "slideshow": {
     "slide_type": "fragment"
    }
   },
   "source": [
    "Данные были мною взяты с небезызвестного kaggle.com. Набор данных содержит информацию о более чем 60000 работниках в сфере Computer Science, более конкретно: об уровне их образования, зарплате, опыте, текущем месте работы и многом другом.   "
   ]
  },
  {
   "cell_type": "markdown",
   "metadata": {
    "id": "mF6ds4noeHxR",
    "slideshow": {
     "slide_type": "slide"
    }
   },
   "source": [
    "Для начала импортнем всё и загрузим наши данные"
   ]
  },
  {
   "cell_type": "code",
   "execution_count": 54,
   "metadata": {
    "colab": {
     "base_uri": "https://localhost:8080/",
     "height": 348
    },
    "id": "49-B8dYdcaaT",
    "outputId": "fc6e6b54-9a87-4608-ce1a-a6d53435103f",
    "slideshow": {
     "slide_type": "fragment"
    }
   },
   "outputs": [
    {
     "data": {
      "text/html": [
       "<div>\n",
       "<style scoped>\n",
       "    .dataframe tbody tr th:only-of-type {\n",
       "        vertical-align: middle;\n",
       "    }\n",
       "\n",
       "    .dataframe tbody tr th {\n",
       "        vertical-align: top;\n",
       "    }\n",
       "\n",
       "    .dataframe thead th {\n",
       "        text-align: right;\n",
       "    }\n",
       "</style>\n",
       "<table border=\"1\" class=\"dataframe\">\n",
       "  <thead>\n",
       "    <tr style=\"text-align: right;\">\n",
       "      <th></th>\n",
       "      <th>timestamp</th>\n",
       "      <th>company</th>\n",
       "      <th>level</th>\n",
       "      <th>title</th>\n",
       "      <th>totalyearlycompensation</th>\n",
       "      <th>location</th>\n",
       "      <th>yearsofexperience</th>\n",
       "      <th>yearsatcompany</th>\n",
       "      <th>tag</th>\n",
       "      <th>basesalary</th>\n",
       "      <th>stockgrantvalue</th>\n",
       "      <th>bonus</th>\n",
       "      <th>gender</th>\n",
       "      <th>otherdetails</th>\n",
       "      <th>cityid</th>\n",
       "      <th>dmaid</th>\n",
       "      <th>rowNumber</th>\n",
       "      <th>Masters_Degree</th>\n",
       "      <th>Bachelors_Degree</th>\n",
       "      <th>Doctorate_Degree</th>\n",
       "      <th>Highschool</th>\n",
       "      <th>Some_College</th>\n",
       "      <th>Race_Asian</th>\n",
       "      <th>Race_White</th>\n",
       "      <th>Race_Two_Or_More</th>\n",
       "      <th>Race_Black</th>\n",
       "      <th>Race_Hispanic</th>\n",
       "      <th>Race</th>\n",
       "      <th>Education</th>\n",
       "    </tr>\n",
       "  </thead>\n",
       "  <tbody>\n",
       "    <tr>\n",
       "      <th>0</th>\n",
       "      <td>6/7/2017 11:33:27</td>\n",
       "      <td>Oracle</td>\n",
       "      <td>L3</td>\n",
       "      <td>Product Manager</td>\n",
       "      <td>127000</td>\n",
       "      <td>Redwood City, CA</td>\n",
       "      <td>1.5</td>\n",
       "      <td>1.5</td>\n",
       "      <td>NaN</td>\n",
       "      <td>107000.0</td>\n",
       "      <td>20000.0</td>\n",
       "      <td>10000.0</td>\n",
       "      <td>NaN</td>\n",
       "      <td>NaN</td>\n",
       "      <td>7392</td>\n",
       "      <td>807.0</td>\n",
       "      <td>1</td>\n",
       "      <td>0</td>\n",
       "      <td>0</td>\n",
       "      <td>0</td>\n",
       "      <td>0</td>\n",
       "      <td>0</td>\n",
       "      <td>0</td>\n",
       "      <td>0</td>\n",
       "      <td>0</td>\n",
       "      <td>0</td>\n",
       "      <td>0</td>\n",
       "      <td>NaN</td>\n",
       "      <td>NaN</td>\n",
       "    </tr>\n",
       "    <tr>\n",
       "      <th>1</th>\n",
       "      <td>6/10/2017 17:11:29</td>\n",
       "      <td>eBay</td>\n",
       "      <td>SE 2</td>\n",
       "      <td>Software Engineer</td>\n",
       "      <td>100000</td>\n",
       "      <td>San Francisco, CA</td>\n",
       "      <td>5.0</td>\n",
       "      <td>3.0</td>\n",
       "      <td>NaN</td>\n",
       "      <td>0.0</td>\n",
       "      <td>0.0</td>\n",
       "      <td>0.0</td>\n",
       "      <td>NaN</td>\n",
       "      <td>NaN</td>\n",
       "      <td>7419</td>\n",
       "      <td>807.0</td>\n",
       "      <td>2</td>\n",
       "      <td>0</td>\n",
       "      <td>0</td>\n",
       "      <td>0</td>\n",
       "      <td>0</td>\n",
       "      <td>0</td>\n",
       "      <td>0</td>\n",
       "      <td>0</td>\n",
       "      <td>0</td>\n",
       "      <td>0</td>\n",
       "      <td>0</td>\n",
       "      <td>NaN</td>\n",
       "      <td>NaN</td>\n",
       "    </tr>\n",
       "    <tr>\n",
       "      <th>2</th>\n",
       "      <td>6/11/2017 14:53:57</td>\n",
       "      <td>Amazon</td>\n",
       "      <td>L7</td>\n",
       "      <td>Product Manager</td>\n",
       "      <td>310000</td>\n",
       "      <td>Seattle, WA</td>\n",
       "      <td>8.0</td>\n",
       "      <td>0.0</td>\n",
       "      <td>NaN</td>\n",
       "      <td>155000.0</td>\n",
       "      <td>0.0</td>\n",
       "      <td>0.0</td>\n",
       "      <td>NaN</td>\n",
       "      <td>NaN</td>\n",
       "      <td>11527</td>\n",
       "      <td>819.0</td>\n",
       "      <td>3</td>\n",
       "      <td>0</td>\n",
       "      <td>0</td>\n",
       "      <td>0</td>\n",
       "      <td>0</td>\n",
       "      <td>0</td>\n",
       "      <td>0</td>\n",
       "      <td>0</td>\n",
       "      <td>0</td>\n",
       "      <td>0</td>\n",
       "      <td>0</td>\n",
       "      <td>NaN</td>\n",
       "      <td>NaN</td>\n",
       "    </tr>\n",
       "    <tr>\n",
       "      <th>3</th>\n",
       "      <td>6/17/2017 0:23:14</td>\n",
       "      <td>Apple</td>\n",
       "      <td>M1</td>\n",
       "      <td>Software Engineering Manager</td>\n",
       "      <td>372000</td>\n",
       "      <td>Sunnyvale, CA</td>\n",
       "      <td>7.0</td>\n",
       "      <td>5.0</td>\n",
       "      <td>NaN</td>\n",
       "      <td>157000.0</td>\n",
       "      <td>180000.0</td>\n",
       "      <td>35000.0</td>\n",
       "      <td>NaN</td>\n",
       "      <td>NaN</td>\n",
       "      <td>7472</td>\n",
       "      <td>807.0</td>\n",
       "      <td>7</td>\n",
       "      <td>0</td>\n",
       "      <td>0</td>\n",
       "      <td>0</td>\n",
       "      <td>0</td>\n",
       "      <td>0</td>\n",
       "      <td>0</td>\n",
       "      <td>0</td>\n",
       "      <td>0</td>\n",
       "      <td>0</td>\n",
       "      <td>0</td>\n",
       "      <td>NaN</td>\n",
       "      <td>NaN</td>\n",
       "    </tr>\n",
       "    <tr>\n",
       "      <th>4</th>\n",
       "      <td>6/20/2017 10:58:51</td>\n",
       "      <td>Microsoft</td>\n",
       "      <td>60</td>\n",
       "      <td>Software Engineer</td>\n",
       "      <td>157000</td>\n",
       "      <td>Mountain View, CA</td>\n",
       "      <td>5.0</td>\n",
       "      <td>3.0</td>\n",
       "      <td>NaN</td>\n",
       "      <td>0.0</td>\n",
       "      <td>0.0</td>\n",
       "      <td>0.0</td>\n",
       "      <td>NaN</td>\n",
       "      <td>NaN</td>\n",
       "      <td>7322</td>\n",
       "      <td>807.0</td>\n",
       "      <td>9</td>\n",
       "      <td>0</td>\n",
       "      <td>0</td>\n",
       "      <td>0</td>\n",
       "      <td>0</td>\n",
       "      <td>0</td>\n",
       "      <td>0</td>\n",
       "      <td>0</td>\n",
       "      <td>0</td>\n",
       "      <td>0</td>\n",
       "      <td>0</td>\n",
       "      <td>NaN</td>\n",
       "      <td>NaN</td>\n",
       "    </tr>\n",
       "  </tbody>\n",
       "</table>\n",
       "</div>"
      ],
      "text/plain": [
       "            timestamp    company level  ... Race_Hispanic  Race Education\n",
       "0   6/7/2017 11:33:27     Oracle    L3  ...             0   NaN       NaN\n",
       "1  6/10/2017 17:11:29       eBay  SE 2  ...             0   NaN       NaN\n",
       "2  6/11/2017 14:53:57     Amazon    L7  ...             0   NaN       NaN\n",
       "3   6/17/2017 0:23:14      Apple    M1  ...             0   NaN       NaN\n",
       "4  6/20/2017 10:58:51  Microsoft    60  ...             0   NaN       NaN\n",
       "\n",
       "[5 rows x 29 columns]"
      ]
     },
     "execution_count": 54,
     "metadata": {},
     "output_type": "execute_result"
    }
   ],
   "source": [
    "import numpy as np\n",
    "import pandas as pd\n",
    "import matplotlib.pyplot as plt\n",
    " \n",
    "df = pd.read_csv(\"/content/Levels_Fyi_Salary_Data.csv\")\n",
    "df.head()"
   ]
  },
  {
   "cell_type": "markdown",
   "metadata": {
    "id": "YROxYL0irzsd",
    "slideshow": {
     "slide_type": "slide"
    }
   },
   "source": [
    "Данные крайне обширные: содержат информацию 62642 программистах"
   ]
  },
  {
   "cell_type": "code",
   "execution_count": 55,
   "metadata": {
    "colab": {
     "base_uri": "https://localhost:8080/"
    },
    "id": "OMTg-rUlrpiu",
    "outputId": "04f320f1-e178-4f3a-f3f7-5638d2a26b14",
    "slideshow": {
     "slide_type": "fragment"
    }
   },
   "outputs": [
    {
     "data": {
      "text/plain": [
       "62642"
      ]
     },
     "execution_count": 55,
     "metadata": {},
     "output_type": "execute_result"
    }
   ],
   "source": [
    "len(df.index)"
   ]
  },
  {
   "cell_type": "markdown",
   "metadata": {
    "id": "RpJB6Gfxr9bF",
    "slideshow": {
     "slide_type": "slide"
    }
   },
   "source": [
    "Также они очень свежие"
   ]
  },
  {
   "cell_type": "code",
   "execution_count": 56,
   "metadata": {
    "colab": {
     "base_uri": "https://localhost:8080/"
    },
    "id": "a7zi42TXrO-_",
    "outputId": "fb55f5a0-3718-41e2-bba9-5d86f7db5bc0",
    "slideshow": {
     "slide_type": "fragment"
    }
   },
   "outputs": [
    {
     "name": "stdout",
     "output_type": "stream",
     "text": [
      "6/7/2017 11:33:27\n",
      "1/29/2019 5:12:59\n"
     ]
    }
   ],
   "source": [
    "print(df['timestamp'][0])\n",
    "print(df['timestamp'][62641])"
   ]
  },
  {
   "cell_type": "markdown",
   "metadata": {
    "id": "QhK8bhZ1tzXY",
    "slideshow": {
     "slide_type": "slide"
    }
   },
   "source": [
    "Очевидно, для нашего исследования нам не нужно столько информации о респондентах. Оставим только нужные колонки: зарплата, образование, должность, пол, компания. Остальное нас пока не интересует\n",
    "Также почистим данные: вырежем все строки с Nan в колонке с зарплатой, образованием и полом, в колонке с бонусами заменим Nan на 0"
   ]
  },
  {
   "cell_type": "markdown",
   "metadata": {
    "id": "LLHkDmkXwY7h",
    "slideshow": {
     "slide_type": "fragment"
    }
   },
   "source": [
    "Стоит отметить, что информация о доходе респондента хранится в трех колонках: 'basesalary'  - базовая заработная плата, 'bonus' - что-то вроде премий, и 'totalyearlycompensation' - сумма всего вышеизложенного. Оставим только две последние."
   ]
  },
  {
   "cell_type": "code",
   "execution_count": 57,
   "metadata": {
    "colab": {
     "base_uri": "https://localhost:8080/",
     "height": 206
    },
    "id": "nQgqAdAMvR_I",
    "outputId": "42da6aee-ec34-44ed-afe5-71a08137a291",
    "slideshow": {
     "slide_type": "subslide"
    }
   },
   "outputs": [
    {
     "data": {
      "text/html": [
       "<div>\n",
       "<style scoped>\n",
       "    .dataframe tbody tr th:only-of-type {\n",
       "        vertical-align: middle;\n",
       "    }\n",
       "\n",
       "    .dataframe tbody tr th {\n",
       "        vertical-align: top;\n",
       "    }\n",
       "\n",
       "    .dataframe thead th {\n",
       "        text-align: right;\n",
       "    }\n",
       "</style>\n",
       "<table border=\"1\" class=\"dataframe\">\n",
       "  <thead>\n",
       "    <tr style=\"text-align: right;\">\n",
       "      <th></th>\n",
       "      <th>Education</th>\n",
       "      <th>totalyearlycompensation</th>\n",
       "      <th>bonus</th>\n",
       "      <th>gender</th>\n",
       "      <th>title</th>\n",
       "      <th>company</th>\n",
       "    </tr>\n",
       "  </thead>\n",
       "  <tbody>\n",
       "    <tr>\n",
       "      <th>3427</th>\n",
       "      <td>PhD</td>\n",
       "      <td>125000</td>\n",
       "      <td>4000.0</td>\n",
       "      <td>Male</td>\n",
       "      <td>Data Scientist</td>\n",
       "      <td>Capital One</td>\n",
       "    </tr>\n",
       "    <tr>\n",
       "      <th>5037</th>\n",
       "      <td>Master's Degree</td>\n",
       "      <td>170000</td>\n",
       "      <td>18000.0</td>\n",
       "      <td>Male</td>\n",
       "      <td>Software Engineer</td>\n",
       "      <td>Bloomberg</td>\n",
       "    </tr>\n",
       "    <tr>\n",
       "      <th>5392</th>\n",
       "      <td>PhD</td>\n",
       "      <td>332000</td>\n",
       "      <td>130000.0</td>\n",
       "      <td>Male</td>\n",
       "      <td>Data Scientist</td>\n",
       "      <td>Amazon</td>\n",
       "    </tr>\n",
       "    <tr>\n",
       "      <th>6055</th>\n",
       "      <td>PhD</td>\n",
       "      <td>240000</td>\n",
       "      <td>15000.0</td>\n",
       "      <td>Female</td>\n",
       "      <td>Software Engineer</td>\n",
       "      <td>Apple</td>\n",
       "    </tr>\n",
       "    <tr>\n",
       "      <th>7218</th>\n",
       "      <td>PhD</td>\n",
       "      <td>310000</td>\n",
       "      <td>60000.0</td>\n",
       "      <td>Male</td>\n",
       "      <td>Software Engineer</td>\n",
       "      <td>Synopsys</td>\n",
       "    </tr>\n",
       "  </tbody>\n",
       "</table>\n",
       "</div>"
      ],
      "text/plain": [
       "            Education  totalyearlycompensation  ...              title      company\n",
       "3427              PhD                   125000  ...     Data Scientist  Capital One\n",
       "5037  Master's Degree                   170000  ...  Software Engineer    Bloomberg\n",
       "5392              PhD                   332000  ...     Data Scientist       Amazon\n",
       "6055              PhD                   240000  ...  Software Engineer        Apple\n",
       "7218              PhD                   310000  ...  Software Engineer     Synopsys\n",
       "\n",
       "[5 rows x 6 columns]"
      ]
     },
     "execution_count": 57,
     "metadata": {},
     "output_type": "execute_result"
    }
   ],
   "source": [
    "education_salary = df[['Education', 'totalyearlycompensation', 'bonus','gender','title','company']]\n",
    "education_salary = education_salary[education_salary['Education'].notna()]\n",
    "education_salary = education_salary[education_salary['gender'].notna()]\n",
    "education_salary = education_salary[education_salary['totalyearlycompensation'].notna()]\n",
    "education_salary['bonus'] = education_salary['bonus'].fillna(0)\n",
    "education_salary.head()"
   ]
  },
  {
   "cell_type": "markdown",
   "metadata": {
    "id": "1jLEKQAIyK0N",
    "slideshow": {
     "slide_type": "slide"
    }
   },
   "source": [
    "При этом у нас осталось достаточно много данных:"
   ]
  },
  {
   "cell_type": "code",
   "execution_count": 58,
   "metadata": {
    "colab": {
     "base_uri": "https://localhost:8080/"
    },
    "id": "Bsl45076yPMC",
    "outputId": "8dea96eb-2f0c-4d45-a09e-dd5ec108ff2d",
    "slideshow": {
     "slide_type": "fragment"
    }
   },
   "outputs": [
    {
     "data": {
      "text/plain": [
       "27766"
      ]
     },
     "execution_count": 58,
     "metadata": {},
     "output_type": "execute_result"
    }
   ],
   "source": [
    " len(education_salary.index)"
   ]
  },
  {
   "cell_type": "markdown",
   "metadata": {
    "id": "9TJhSvWe7J2z",
    "slideshow": {
     "slide_type": "slide"
    }
   },
   "source": [
    "Посмотрим, какие вообще бывают варианты ответов в графе 'Education' и сколько в данных соответствующих им ответов\n"
   ]
  },
  {
   "cell_type": "code",
   "execution_count": 59,
   "metadata": {
    "colab": {
     "base_uri": "https://localhost:8080/"
    },
    "id": "hAhdEJYV6dkY",
    "outputId": "c48527eb-7935-41a0-a06d-2a525c56045d",
    "slideshow": {
     "slide_type": "fragment"
    }
   },
   "outputs": [
    {
     "name": "stdout",
     "output_type": "stream",
     "text": [
      "Master's Degree      13795\n",
      "Bachelor's Degree    11875\n",
      "PhD                   1438\n",
      "Some College           348\n",
      "Highschool             310\n",
      "Name: Education, dtype: int64\n"
     ]
    }
   ],
   "source": [
    "print(education_salary['Education'].value_counts())"
   ]
  },
  {
   "cell_type": "code",
   "execution_count": 60,
   "metadata": {
    "colab": {
     "base_uri": "https://localhost:8080/",
     "height": 411
    },
    "id": "D519ewjY8FBP",
    "outputId": "979d0e46-0e56-4331-d6af-ddcbaae15f90",
    "slideshow": {
     "slide_type": "slide"
    }
   },
   "outputs": [
    {
     "data": {
      "image/png": "[encoded data removed]",
      "text/plain": [
       "<Figure size 504x504 with 1 Axes>"
      ]
     },
     "metadata": {},
     "output_type": "display_data"
    }
   ],
   "source": [
    "plt.show(education_salary['Education'].value_counts().plot(kind='pie',subplots=True, figsize=(7,7)))"
   ]
  },
  {
   "cell_type": "markdown",
   "metadata": {
    "id": "e-HlgjIL7elV",
    "slideshow": {
     "slide_type": "fragment"
    }
   },
   "source": [
    "Как видим, заморские компании не любят нанимать себе программистов без высшего образования: респондентов, закончивших только старшую школу, в общей сложности около 1% от всех опрошенных"
   ]
  },
  {
   "cell_type": "markdown",
   "metadata": {
    "id": "eueURJBJ85k-",
    "slideshow": {
     "slide_type": "slide"
    }
   },
   "source": [
    "А как обстоят дела с зарплатой?"
   ]
  },
  {
   "cell_type": "code",
   "execution_count": 61,
   "metadata": {
    "colab": {
     "base_uri": "https://localhost:8080/",
     "height": 364
    },
    "id": "uSgCAf1yyabL",
    "outputId": "e134ed1a-eb6b-4e3f-daff-64eeb9d6a8a7",
    "slideshow": {
     "slide_type": "fragment"
    }
   },
   "outputs": [
    {
     "data": {
      "image/png": "[encoded data removed]",
      "text/plain": [
       "<Figure size 432x288 with 1 Axes>"
      ]
     },
     "metadata": {
      "needs_background": "light"
     },
     "output_type": "display_data"
    }
   ],
   "source": [
    "plt.show(education_salary.groupby('Education').mean().plot(kind='bar'))"
   ]
  },
  {
   "cell_type": "markdown",
   "metadata": {
    "id": "9GtdYTdw9QTv",
    "slideshow": {
     "slide_type": "fragment"
    }
   },
   "source": [
    "Здесь есть кое-что интересное. Во-первых, зарплаты программистов без высшего образования почти не отличаются от зарплат программистов, закончивших только бакалавр. Значительное преобладание в зарплате заметно для магистров. А ребята с PhD вообще миллионы рубят"
   ]
  },
  {
   "cell_type": "markdown",
   "metadata": {
    "id": "rAB12G-j-Els",
    "slideshow": {
     "slide_type": "slide"
    }
   },
   "source": [
    "Вспомним, что половина богатств мира принаждлежит 1% его населения. Поэтому считать среднюю зарплату корректно не всегда. Нас также интересует медиана"
   ]
  },
  {
   "cell_type": "code",
   "execution_count": 62,
   "metadata": {
    "colab": {
     "base_uri": "https://localhost:8080/",
     "height": 378
    },
    "id": "TBKLsHNJ-bvE",
    "outputId": "121b74b0-8172-4b32-9c4b-b361f6f6f491",
    "slideshow": {
     "slide_type": "fragment"
    }
   },
   "outputs": [
    {
     "data": {
      "text/plain": [
       "<matplotlib.axes._subplots.AxesSubplot at 0x7f34774cbe90>"
      ]
     },
     "execution_count": 62,
     "metadata": {},
     "output_type": "execute_result"
    },
    {
     "data": {
      "image/png": "[encoded data removed]",
      "text/plain": [
       "<Figure size 432x288 with 1 Axes>"
      ]
     },
     "metadata": {
      "needs_background": "light"
     },
     "output_type": "display_data"
    }
   ],
   "source": [
    "education_salary.groupby('Education').median().plot(kind='bar')"
   ]
  },
  {
   "cell_type": "markdown",
   "metadata": {
    "id": "uTBsoeFo-iNC",
    "slideshow": {
     "slide_type": "fragment"
    }
   },
   "source": [
    "Ситуация примерно та же"
   ]
  },
  {
   "cell_type": "markdown",
   "metadata": {
    "id": "D_05J53hAMoU",
    "slideshow": {
     "slide_type": "slide"
    }
   },
   "source": [
    "Интересно узнать, что же за эти 320 человек без высшего образования (если что, ignoramus это неуч). "
   ]
  },
  {
   "cell_type": "code",
   "execution_count": 63,
   "metadata": {
    "colab": {
     "base_uri": "https://localhost:8080/",
     "height": 206
    },
    "id": "DXj0CIwrB2Qp",
    "outputId": "b88e5994-c1f7-4a05-f1a8-15409bd277da",
    "slideshow": {
     "slide_type": "fragment"
    }
   },
   "outputs": [
    {
     "data": {
      "text/html": [
       "<div>\n",
       "<style scoped>\n",
       "    .dataframe tbody tr th:only-of-type {\n",
       "        vertical-align: middle;\n",
       "    }\n",
       "\n",
       "    .dataframe tbody tr th {\n",
       "        vertical-align: top;\n",
       "    }\n",
       "\n",
       "    .dataframe thead th {\n",
       "        text-align: right;\n",
       "    }\n",
       "</style>\n",
       "<table border=\"1\" class=\"dataframe\">\n",
       "  <thead>\n",
       "    <tr style=\"text-align: right;\">\n",
       "      <th></th>\n",
       "      <th>Education</th>\n",
       "      <th>totalyearlycompensation</th>\n",
       "      <th>bonus</th>\n",
       "      <th>gender</th>\n",
       "      <th>title</th>\n",
       "      <th>company</th>\n",
       "    </tr>\n",
       "  </thead>\n",
       "  <tbody>\n",
       "    <tr>\n",
       "      <th>23545</th>\n",
       "      <td>Highschool</td>\n",
       "      <td>210000</td>\n",
       "      <td>0.0</td>\n",
       "      <td>Male</td>\n",
       "      <td>Software Engineer</td>\n",
       "      <td>Amazon</td>\n",
       "    </tr>\n",
       "    <tr>\n",
       "      <th>23553</th>\n",
       "      <td>Highschool</td>\n",
       "      <td>365000</td>\n",
       "      <td>38000.0</td>\n",
       "      <td>Male</td>\n",
       "      <td>Software Engineer</td>\n",
       "      <td>Twitter</td>\n",
       "    </tr>\n",
       "    <tr>\n",
       "      <th>23765</th>\n",
       "      <td>Highschool</td>\n",
       "      <td>214000</td>\n",
       "      <td>67000.0</td>\n",
       "      <td>Male</td>\n",
       "      <td>Software Engineer</td>\n",
       "      <td>Amazon</td>\n",
       "    </tr>\n",
       "    <tr>\n",
       "      <th>23777</th>\n",
       "      <td>Highschool</td>\n",
       "      <td>82000</td>\n",
       "      <td>10000.0</td>\n",
       "      <td>Male</td>\n",
       "      <td>Product Designer</td>\n",
       "      <td>BCG Digital Ventures</td>\n",
       "    </tr>\n",
       "    <tr>\n",
       "      <th>23844</th>\n",
       "      <td>Highschool</td>\n",
       "      <td>145000</td>\n",
       "      <td>10000.0</td>\n",
       "      <td>Male</td>\n",
       "      <td>Software Engineer</td>\n",
       "      <td>Capital One</td>\n",
       "    </tr>\n",
       "  </tbody>\n",
       "</table>\n",
       "</div>"
      ],
      "text/plain": [
       "        Education  ...               company\n",
       "23545  Highschool  ...                Amazon\n",
       "23553  Highschool  ...               Twitter\n",
       "23765  Highschool  ...                Amazon\n",
       "23777  Highschool  ...  BCG Digital Ventures\n",
       "23844  Highschool  ...           Capital One\n",
       "\n",
       "[5 rows x 6 columns]"
      ]
     },
     "execution_count": 63,
     "metadata": {},
     "output_type": "execute_result"
    }
   ],
   "source": [
    "ignoramuses = education_salary[education_salary['Education'] == 'Highschool']\n",
    "ignoramuses.head()"
   ]
  },
  {
   "cell_type": "markdown",
   "metadata": {
    "id": "VgRl5EhAIhMb",
    "slideshow": {
     "slide_type": "slide"
    }
   },
   "source": [
    "Посмотрим, в каких компаниях охотнее всего нанимают неучей.\n",
    "Для этого посчитаем процент работников без высшего образования для каждой компании отдельно, и возьмем топ 10, так как компаний у нас много:"
   ]
  },
  {
   "cell_type": "code",
   "execution_count": 64,
   "metadata": {
    "colab": {
     "base_uri": "https://localhost:8080/"
    },
    "id": "K9Rajh5Gd0G9",
    "outputId": "5c73258d-b602-4812-c5ed-d583e0c0d9d7",
    "slideshow": {
     "slide_type": "fragment"
    }
   },
   "outputs": [
    {
     "data": {
      "text/plain": [
       "1346"
      ]
     },
     "execution_count": 64,
     "metadata": {},
     "output_type": "execute_result"
    }
   ],
   "source": [
    "len(education_salary['company'].unique())"
   ]
  },
  {
   "cell_type": "code",
   "execution_count": 65,
   "metadata": {
    "colab": {
     "base_uri": "https://localhost:8080/"
    },
    "id": "1pnF2PnPeIrg",
    "outputId": "b8d06d17-a8ff-4689-e0eb-a8c1a52bf57f",
    "slideshow": {
     "slide_type": "subslide"
    }
   },
   "outputs": [
    {
     "name": "stdout",
     "output_type": "stream",
     "text": [
      "DoctoLib              1.000000\n",
      "General Mills         1.000000\n",
      "Juniper Square        1.000000\n",
      "Amplitude             0.500000\n",
      "Barracuda Networks    0.500000\n",
      "Hsbc                  0.500000\n",
      "InvestCloud           0.500000\n",
      "MURAL                 0.500000\n",
      "Telus                 0.500000\n",
      "Acorns                0.333333\n",
      "Name: company, dtype: float64\n"
     ]
    }
   ],
   "source": [
    "companies = education_salary['company'].value_counts()\n",
    "ignoramuses_companies = ignoramuses['company'].value_counts()\n",
    "perc = ignoramuses_companies/companies\n",
    "perc.dropna(inplace=True)\n",
    "top_perc = perc.nlargest(n=10)\n",
    "print(top_perc)"
   ]
  },
  {
   "cell_type": "markdown",
   "metadata": {
    "id": "FlZq1gQJhfxq",
    "slideshow": {
     "slide_type": "fragment"
    }
   },
   "source": [
    "Мы избавились от полей с nan, чтобы исключить компании, в которых вообще не было людей без высшего образования. Но получается, что есть компании, в которых вообще все не имеют высшего образвания? На самом деле, конечно, нет."
   ]
  },
  {
   "cell_type": "code",
   "execution_count": 66,
   "metadata": {
    "colab": {
     "base_uri": "https://localhost:8080/"
    },
    "id": "ZlyThGlki5Q8",
    "outputId": "ff087a41-a7fd-4966-942a-11c5d310bf41",
    "slideshow": {
     "slide_type": "subslide"
    }
   },
   "outputs": [
    {
     "data": {
      "text/plain": [
       "[('DoctoLib', 1),\n",
       " ('General Mills', 1),\n",
       " ('Juniper Square', 1),\n",
       " ('Amplitude', 2),\n",
       " ('Barracuda Networks', 2),\n",
       " ('Hsbc', 2),\n",
       " ('InvestCloud', 2),\n",
       " ('MURAL', 6),\n",
       " ('Telus', 2),\n",
       " ('Acorns', 3)]"
      ]
     },
     "execution_count": 66,
     "metadata": {},
     "output_type": "execute_result"
    }
   ],
   "source": [
    "[(company, len(education_salary[education_salary['company'] == company])) for company in top_perc.index]"
   ]
  },
  {
   "cell_type": "markdown",
   "metadata": {
    "id": "j8k2xLY9jXgT",
    "slideshow": {
     "slide_type": "fragment"
    }
   },
   "source": [
    "Их просто мало"
   ]
  },
  {
   "cell_type": "markdown",
   "metadata": {
    "id": "j8k2xLY9jXgT",
    "slideshow": {
     "slide_type": "slide"
    }
   },
   "source": [
    "Давайте уберем из рассмотрения все компании, для которых в выборке представлено совсем мало работников"
   ]
  },
  {
   "cell_type": "code",
   "execution_count": 67,
   "metadata": {
    "colab": {
     "base_uri": "https://localhost:8080/",
     "height": 581
    },
    "id": "4DIuv2aKpcwX",
    "outputId": "43d87089-d939-41c7-9caa-aae143b74b5c",
    "slideshow": {
     "slide_type": "fragment"
    }
   },
   "outputs": [
    {
     "data": {
      "image/png": "[encoded data removed]",
      "text/plain": [
       "<Figure size 720x720 with 1 Axes>"
      ]
     },
     "metadata": {
      "needs_background": "light"
     },
     "output_type": "display_data"
    }
   ],
   "source": [
    "perc = perc[perc.index.isin(companies[companies.values > 75].index)]\n",
    "plt.show(perc.plot(kind='bar', figsize=(10,10), xticks=[]))"
   ]
  },
  {
   "cell_type": "markdown",
   "metadata": {
    "id": "mETAU-pAIWwY",
    "slideshow": {
     "slide_type": "notes"
    }
   },
   "source": [
    "Как думаете, кто лидер?"
   ]
  },
  {
   "cell_type": "code",
   "execution_count": 68,
   "metadata": {
    "colab": {
     "base_uri": "https://localhost:8080/",
     "height": 560
    },
    "id": "DqjLX3hKIa4h",
    "outputId": "0af73658-58c0-46d9-eea8-9c8ef528fc31",
    "slideshow": {
     "slide_type": "slide"
    }
   },
   "outputs": [
    {
     "data": {
      "image/png": "[encoded data removed]",
      "text/plain": [
       "<Figure size 576x576 with 1 Axes>"
      ]
     },
     "metadata": {
      "needs_background": "light"
     },
     "output_type": "display_data"
    }
   ],
   "source": [
    "perc = perc[perc.index.isin(companies[companies.values > 75].index)]\n",
    "plt.show(perc.plot(kind='bar', figsize=(8,8)))"
   ]
  },
  {
   "cell_type": "markdown",
   "metadata": {
    "id": "igatHmncI2Uv",
    "slideshow": {
     "slide_type": "slide"
    }
   },
   "source": [
    "Давайте узнаем, на какие позиции чаще всего берут без вышки. Куда податься, так сказать"
   ]
  },
  {
   "cell_type": "code",
   "execution_count": 69,
   "metadata": {
    "colab": {
     "base_uri": "https://localhost:8080/"
    },
    "id": "dJl9v2Bj6JYo",
    "outputId": "fcdf9c84-f50f-4cb9-d075-2b9d4fd81ac0",
    "slideshow": {
     "slide_type": "fragment"
    }
   },
   "outputs": [
    {
     "data": {
      "text/plain": [
       "15"
      ]
     },
     "execution_count": 69,
     "metadata": {},
     "output_type": "execute_result"
    }
   ],
   "source": [
    "len(education_salary['title'].unique())"
   ]
  },
  {
   "cell_type": "code",
   "execution_count": 70,
   "metadata": {
    "colab": {
     "base_uri": "https://localhost:8080/",
     "height": 518
    },
    "id": "C5PGIdIq6PKH",
    "outputId": "0c4080fc-315f-40b5-ddde-a88779961ccf",
    "slideshow": {
     "slide_type": "slide"
    }
   },
   "outputs": [
    {
     "data": {
      "image/png": "[encoded data removed]",
      "text/plain": [
       "<Figure size 432x432 with 1 Axes>"
      ]
     },
     "metadata": {
      "needs_background": "light"
     },
     "output_type": "display_data"
    }
   ],
   "source": [
    "titles = education_salary['title'].value_counts()\n",
    "ignoramuses_titles = ignoramuses['title'].value_counts()\n",
    "title_perc = ignoramuses_titles/titles\n",
    "title_perc.dropna(inplace=True)\n",
    "plt.show(title_perc.plot(kind='bar', figsize=(6,6)))"
   ]
  },
  {
   "cell_type": "markdown",
   "metadata": {
    "id": "5Ma5UzRT8AOf",
    "slideshow": {
     "slide_type": "fragment"
    }
   },
   "source": [
    "В общем, проще всего устроиться на работу без вышки в Гугл рекрутером.\n",
    "А сложнее всего Дана Сайентистом"
   ]
  },
  {
   "cell_type": "markdown",
   "metadata": {
    "id": "ydhrhStZcrnn",
    "slideshow": {
     "slide_type": "slide"
    }
   },
   "source": [
    "Ладно, с образованием разобрались, отчисляемся. А посмотрим как обстоит дело с гендерным балансом"
   ]
  },
  {
   "cell_type": "code",
   "execution_count": 71,
   "metadata": {
    "colab": {
     "base_uri": "https://localhost:8080/",
     "height": 411
    },
    "id": "zWdPnjckhp04",
    "outputId": "b049f4ba-53eb-455a-f6bc-9c68b902bef1",
    "slideshow": {
     "slide_type": "fragment"
    }
   },
   "outputs": [
    {
     "data": {
      "image/png": "[encoded data removed]",
      "text/plain": [
       "<Figure size 504x504 with 1 Axes>"
      ]
     },
     "metadata": {},
     "output_type": "display_data"
    }
   ],
   "source": [
    "x = education_salary['gender'].value_counts()\n",
    "plt.show(x.plot.pie(figsize=(7,7)))"
   ]
  },
  {
   "cell_type": "markdown",
   "metadata": {
    "id": "zKrQa2RRjpOP",
    "slideshow": {
     "slide_type": "slide"
    }
   },
   "source": [
    "Ну, в общем, что и ожидалось, женщин в IT  сильно меньше. Ничего. Исправим\n",
    "Посмотрим, дискриминирует ли сама сфера женщин. Проанализируем зарплату в соответствии с гендером"
   ]
  },
  {
   "cell_type": "code",
   "execution_count": 72,
   "metadata": {
    "colab": {
     "base_uri": "https://localhost:8080/",
     "height": 305
    },
    "id": "AUDbs138i9-I",
    "outputId": "c37fd524-ed47-47aa-dafd-f9d95729b051",
    "slideshow": {
     "slide_type": "fragment"
    }
   },
   "outputs": [
    {
     "data": {
      "image/png": "[encoded data removed]",
      "text/plain": [
       "<Figure size 432x288 with 1 Axes>"
      ]
     },
     "metadata": {
      "needs_background": "light"
     },
     "output_type": "display_data"
    }
   ],
   "source": [
    "plt.show(education_salary.groupby('gender').mean().plot(kind='bar'))"
   ]
  },
  {
   "cell_type": "markdown",
   "metadata": {
    "id": "bHHuBj25kEqQ",
    "slideshow": {
     "slide_type": "fragment"
    }
   },
   "source": [
    "Получается, что женщины зарабатывают чуть меньше мужчин, а больше всех зарабатывает третий гендер"
   ]
  },
  {
   "cell_type": "markdown",
   "metadata": {
    "id": "hT3kOAlRkeE3",
    "slideshow": {
     "slide_type": "slide"
    }
   },
   "source": [
    "Возьмем теперь медиану"
   ]
  },
  {
   "cell_type": "code",
   "execution_count": 73,
   "metadata": {
    "colab": {
     "base_uri": "https://localhost:8080/",
     "height": 305
    },
    "id": "PbU6GU64kXSZ",
    "outputId": "1b20f173-0471-4b59-9840-5dcc2fa5a6e2",
    "slideshow": {
     "slide_type": "fragment"
    }
   },
   "outputs": [
    {
     "data": {
      "image/png": "[encoded data removed]",
      "text/plain": [
       "<Figure size 432x288 with 1 Axes>"
      ]
     },
     "metadata": {
      "needs_background": "light"
     },
     "output_type": "display_data"
    }
   ],
   "source": [
    "plt.show(education_salary.groupby('gender').median().plot(kind='bar'))"
   ]
  },
  {
   "cell_type": "markdown",
   "metadata": {
    "id": "gHFSnKHpkn61",
    "slideshow": {
     "slide_type": "fragment"
    }
   },
   "source": [
    "Вау. Зарплаты мужчин и третьего гендера почти одинаковы, а у женщин лишь чутка меньше. Значит, наши данные распределены неравномерно: где-то затесалась группка очень богатых трансгендеров. Посмотрим на распределение данных\n",
    "\n",
    "Для построения симпатичной картинки воспользуемся средствами seaborn. Потому что так красивее"
   ]
  },
  {
   "cell_type": "code",
   "execution_count": 74,
   "metadata": {
    "colab": {
     "base_uri": "https://localhost:8080/",
     "height": 290
    },
    "id": "JGk-WqUGk43_",
    "outputId": "fea53dc4-52c5-45c0-89de-1f83ea32c55d",
    "slideshow": {
     "slide_type": "slide"
    }
   },
   "outputs": [
    {
     "data": {
      "image/png": "[encoded data removed]",
      "text/plain": [
       "<Figure size 432x288 with 1 Axes>"
      ]
     },
     "metadata": {
      "needs_background": "light"
     },
     "output_type": "display_data"
    }
   ],
   "source": [
    "import seaborn as sns\n",
    "\n",
    "snsplot = sns.kdeplot(education_salary[education_salary['gender'] == 'Male']['totalyearlycompensation'], shade=True)\n",
    "snsplot = sns.kdeplot(education_salary[education_salary['gender'] == 'Female']['totalyearlycompensation'], shade=True)\n",
    "snsplot = sns.kdeplot(education_salary[education_salary['gender'] == 'Other']['totalyearlycompensation'], shade=True)\n",
    "snsplot.set(xlim=(0,1000000))\n",
    "fig = snsplot.get_figure()"
   ]
  },
  {
   "cell_type": "markdown",
   "metadata": {
    "id": "QEY7g5KlKGK4",
    "slideshow": {
     "slide_type": "slide"
    }
   },
   "source": [
    "Для наглядной иллюстрации выбросов построим ящик с усами (?)"
   ]
  },
  {
   "cell_type": "code",
   "execution_count": 75,
   "metadata": {
    "colab": {
     "base_uri": "https://localhost:8080/",
     "height": 279
    },
    "id": "LZnNyrVjz01l",
    "outputId": "aa747619-a33b-47af-d25f-39f9f5c42ee3",
    "slideshow": {
     "slide_type": "fragment"
    }
   },
   "outputs": [
    {
     "data": {
      "image/png": "[encoded data removed]",
      "text/plain": [
       "<Figure size 432x288 with 1 Axes>"
      ]
     },
     "metadata": {
      "needs_background": "light"
     },
     "output_type": "display_data"
    }
   ],
   "source": [
    "sns.boxplot(x=education_salary['totalyearlycompensation'])\n",
    "plt.show()"
   ]
  },
  {
   "cell_type": "markdown",
   "metadata": {
    "id": "mXl0EyowKMmM",
    "slideshow": {
     "slide_type": "fragment"
    }
   },
   "source": [
    "Ну, как мы видим, сплошные выбросы"
   ]
  },
  {
   "cell_type": "markdown",
   "metadata": {
    "id": "xThpypDeKU0b",
    "slideshow": {
     "slide_type": "slide"
    }
   },
   "source": [
    "Посмотрим на эксцесс"
   ]
  },
  {
   "cell_type": "code",
   "execution_count": 76,
   "metadata": {
    "colab": {
     "base_uri": "https://localhost:8080/"
    },
    "id": "uiTNPtx30lHx",
    "outputId": "6dfbdb2f-9276-43ab-f76f-a93ae98d1bb4",
    "slideshow": {
     "slide_type": "fragment"
    }
   },
   "outputs": [
    {
     "data": {
      "text/plain": [
       "109.76303017923055"
      ]
     },
     "execution_count": 76,
     "metadata": {},
     "output_type": "execute_result"
    }
   ],
   "source": [
    "education_salary['totalyearlycompensation'].kurtosis()"
   ]
  },
  {
   "cell_type": "markdown",
   "metadata": {
    "id": "XnhtnDR3x2NQ",
    "slideshow": {
     "slide_type": "slide"
    }
   },
   "source": [
    "Почистим выбросы используя IQR-rule и построим ящик с усами опять"
   ]
  },
  {
   "cell_type": "code",
   "execution_count": 77,
   "metadata": {
    "colab": {
     "base_uri": "https://localhost:8080/",
     "height": 279
    },
    "id": "DEtz9U7Ax3Gw",
    "outputId": "2dc897f9-b921-4f2d-a0f1-1ff1a81d389a",
    "slideshow": {
     "slide_type": "fragment"
    }
   },
   "outputs": [
    {
     "data": {
      "image/png": "[encoded data removed]",
      "text/plain": [
       "<Figure size 432x288 with 1 Axes>"
      ]
     },
     "metadata": {
      "needs_background": "light"
     },
     "output_type": "display_data"
    }
   ],
   "source": [
    "q1 = education_salary['totalyearlycompensation'].quantile(.25)\n",
    "q3 = education_salary['totalyearlycompensation'].quantile(.75)\n",
    "mask = education_salary['totalyearlycompensation'].between(q1, q3, inclusive=True)\n",
    "filtered = education_salary[mask]\n",
    "sns.boxplot(x=filtered['totalyearlycompensation'])\n",
    "plt.show()"
   ]
  },
  {
   "cell_type": "markdown",
   "metadata": {
    "id": "kaEFqtd1K2hh",
    "slideshow": {
     "slide_type": "slide"
    }
   },
   "source": [
    "Как видим, мы ликвидировали выбросы, теперь можно и посмотреть на среднюю зарплату"
   ]
  },
  {
   "cell_type": "code",
   "execution_count": 78,
   "metadata": {
    "colab": {
     "base_uri": "https://localhost:8080/",
     "height": 305
    },
    "id": "fcVT8zGG1B9n",
    "outputId": "17c02a05-be40-4125-d3a4-054f2fd86b14",
    "slideshow": {
     "slide_type": "fragment"
    }
   },
   "outputs": [
    {
     "data": {
      "image/png": "[encoded data removed]",
      "text/plain": [
       "<Figure size 432x288 with 1 Axes>"
      ]
     },
     "metadata": {
      "needs_background": "light"
     },
     "output_type": "display_data"
    }
   ],
   "source": [
    "plt.show(filtered.groupby('gender').mean().plot(kind='bar'))"
   ]
  },
  {
   "cell_type": "markdown",
   "metadata": {
    "id": "vMIgId4q19bJ",
    "slideshow": {
     "slide_type": "fragment"
    }
   },
   "source": [
    "Мы только что победили дискриминацию по гендерному признаку"
   ]
  },
  {
   "cell_type": "markdown",
   "metadata": {
    "id": "4gJi4x222zlY",
    "slideshow": {
     "slide_type": "slide"
    }
   },
   "source": [
    "Вообще, тут ещё можно найти очень много интересных вещей. Но на этом мы остановимся и перейдем к выводам"
   ]
  },
  {
   "cell_type": "markdown",
   "metadata": {
    "id": "9Q7gXP9i3D7a",
    "slideshow": {
     "slide_type": "slide"
    }
   },
   "source": [
    "**Выводы:**\n",
    "\n",
    "\n",
    "*   Если нет высшего образования надо идти работать в Яндекс\n",
    "*   Если не хочется в Яндекс можно в Google рекрутером\n",
    "*   А вот если хочется работать Data Scientistом, образование придется получать\n",
    "*   Программисты с высшим образованием зарабатывают не сильно больше, чем программисты без него. Если хотите повысить зарплату образованием, придется получать магистрскую или писать  PhD\n",
    "*   Женщин в IT меньше. Сильно\n",
    "*   Зарабатывают женщины меньше, но не сильно\n"
   ]
  }
 ],
 "metadata": {
  "celltoolbar": "Слайд-шоу",
  "colab": {
   "collapsed_sections": [],
   "name": "PROJECT.ipynb",
   "provenance": []
  },
  "kernelspec": {
   "display_name": "Python 3 (ipykernel)",
   "language": "python",
   "name": "python3"
  },
  "language_info": {
   "codemirror_mode": {
    "name": "ipython",
    "version": 3
   },
   "file_extension": ".py",
   "mimetype": "text/x-python",
   "name": "python",
   "nbconvert_exporter": "python",
   "pygments_lexer": "ipython3",
   "version": "3.8.10"
  }
 },
 "nbformat": 4,
 "nbformat_minor": 1
}
